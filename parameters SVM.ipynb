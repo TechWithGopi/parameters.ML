{
 "cells": [
  {
   "cell_type": "markdown",
   "metadata": {},
   "source": [
    "The \"kernel\" parameter in a machine learning algorithm called Support Vector Machines (SVM).\n",
    "\n",
    "In simple terms, a kernel is a mathematical function used to transform the data into a higher-dimensional space, making it easier to classify or separate the data points into different categories. Here are the different options for the kernel parameter:\n",
    "\n",
    "Linear: \n",
    "\n",
    "This kernel uses a linear function to transform the data. It is suitable for linearly separable data, where the classes can be separated by a straight line.\n",
    "\n",
    "Polynomial (poly):\n",
    "\n",
    "This kernel uses a polynomial function to transform the data. It is useful when the data points belong to different classes and can be separated by curves or more complex shapes.\n",
    "\n",
    "Radial basis function (RBF or Gaussian):\n",
    "\n",
    "This kernel uses a Gaussian function to transform the data. It is suitable for data that is not linearly separable and allows for more flexible decision boundaries.\n",
    "\n",
    "Sigmoid:\n",
    "\n",
    "This kernel uses a sigmoid function to transform the data. It can be useful when dealing with data that has a non-linear relationship between features.\n",
    "\n",
    "Precomputed:\n",
    "\n",
    "This option allows you to specify a precomputed kernel matrix instead of using one of the built-in kernel functions. It requires you to provide a square matrix containing the pairwise similarity between all samples in the training set.\n",
    "\n",
    "Specifies the kernel type to be used in the algorithm. If none is given, ‘rbf’ will be used. If a callable is given it is used to precompute the kernel matrix\n",
    "\n",
    "\n",
    "\n",
    "\n",
    "\n",
    "\n",
    "degreeint, default=3\n",
    "\n",
    "\n",
    "Degree of the polynomial kernel function (‘poly’). Must be non-negative. Ignored by all other kernels."
   ]
  }
 ],
 "metadata": {
  "kernelspec": {
   "display_name": "Python 3",
   "language": "python",
   "name": "python3"
  },
  "language_info": {
   "codemirror_mode": {
    "name": "ipython",
    "version": 3
   },
   "file_extension": ".py",
   "mimetype": "text/x-python",
   "name": "python",
   "nbconvert_exporter": "python",
   "pygments_lexer": "ipython3",
   "version": "3.7.4"
  }
 },
 "nbformat": 4,
 "nbformat_minor": 2
}
